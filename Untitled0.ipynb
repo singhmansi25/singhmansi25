{
  "nbformat": 4,
  "nbformat_minor": 0,
  "metadata": {
    "colab": {
      "name": "Untitled0.ipynb",
      "provenance": [],
      "authorship_tag": "ABX9TyMm1WlZRqktVwU6B+fIpxms",
      "include_colab_link": true
    },
    "kernelspec": {
      "name": "python3",
      "display_name": "Python 3"
    },
    "language_info": {
      "name": "python"
    }
  },
  "cells": [
    {
      "cell_type": "markdown",
      "metadata": {
        "id": "view-in-github",
        "colab_type": "text"
      },
      "source": [
        "<a href=\"https://colab.research.google.com/github/singhmansi25/singhmansi25/blob/main/Untitled0.ipynb\" target=\"_parent\"><img src=\"https://colab.research.google.com/assets/colab-badge.svg\" alt=\"Open In Colab\"/></a>"
      ]
    },
    {
      "cell_type": "code",
      "metadata": {
        "colab": {
          "base_uri": "https://localhost:8080/"
        },
        "id": "Yafd6N--PnhW",
        "outputId": "1cc166db-82a7-4a2a-fb67-6cb936073a5f"
      },
      "source": [
        "#take user input here\n",
        "# The Amount of money you have -----\n",
        "money = int(input('Enter amount of money you have : ')) \n",
        "\n",
        "# The Price of each chocolate -----\n",
        "price = int(input('Enter price of each chocolate : '))  \n",
        "\n",
        "# Number of wrapper, in exchange of which you will get the chocolates -----\n",
        "wrappers = int(input('Enter for how many wrappers, shopkeeper gives you chocolates : ')) \n",
        "\n",
        "#Number of chocolates you will get in exchange of wrappers -----\n",
        "choco_wrapper = int(input('Enter how many chocolates , will shopkeeper gives you for given number of wrappers : '))\n",
        "\n",
        "# The Algorithm \n",
        "chocolates = money//price          # Number of chocolates you will get with your money and price of chocolates\n",
        "number_of_wrappers = money//price  # Number of wrappers when you will buy chocolates\n",
        "\n",
        "# Calculation for Extra chocolates in exchange of wrappers -----\n",
        "while number_of_wrappers//wrappers!=0:\n",
        "    chocolates = chocolates + ((number_of_wrappers//wrappers)*choco_wrapper)\n",
        "    number_of_wrappers = ((number_of_wrappers//wrappers)*choco_wrapper) + (number_of_wrappers%wrappers)\n",
        "\n",
        "# Finally you get Extra Chocolates : \n",
        "\n",
        "print('---------------------------------------------------------------------------------------------------------')\n",
        "print('Yay you got',chocolates,'Chocolates 🍫🍫 . Enjoy')"
      ],
      "execution_count": null,
      "outputs": [
        {
          "output_type": "stream",
          "text": [
            
          ],
          "name": "stdout"
        }
      ]
    }
  ]
}
